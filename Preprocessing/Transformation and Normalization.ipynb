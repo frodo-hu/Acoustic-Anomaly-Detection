{
 "cells": [
  {
   "cell_type": "markdown",
   "metadata": {},
   "source": [
    "**Preprocessing Pipeline**"
   ]
  },
  {
   "cell_type": "code",
   "execution_count": 2,
   "metadata": {},
   "outputs": [],
   "source": [
    "# Imports\n",
    "import librosa\n",
    "import numpy as np\n",
    "import soundfile as sf\n",
    "from scipy.signal import fftconvolve\n",
    "\n",
    "import matplotlib.pyplot as plt\n",
    "import soundfile as sf"
   ]
  },
  {
   "cell_type": "markdown",
   "metadata": {},
   "source": [
    "**1. Synchronization of recorded audio files**"
   ]
  },
  {
   "cell_type": "code",
   "execution_count": null,
   "metadata": {},
   "outputs": [],
   "source": [
    "# Load and synchronize audio files\n",
    "print(\"Loading Pi1 audio file...\")\n",
    "audio_pi1, sr1 = librosa.load(\"Align FFT/pi1_audio.wav\", sr=None)  # Update with your correct path\n",
    "print(\"Pi1 audio loaded.\")\n",
    "\n",
    "print(\"Loading Pi2 audio file...\")\n",
    "audio_pi2, sr2 = librosa.load(\"Align FFT/pi2_audio.wav\", sr=None)  # Update with your correct path\n",
    "print(\"Pi2 audio loaded.\")"
   ]
  },
  {
   "cell_type": "code",
   "execution_count": null,
   "metadata": {},
   "outputs": [],
   "source": [
    "# Ensure the sample rates match\n",
    "if sr1 != sr2:\n",
    "    raise ValueError(\"Sample rates of the two files do not match\")\n",
    "\n",
    "# Trim silence\n",
    "print(\"Trimming silence from both audio files...\")\n",
    "audio_pi1, _ = librosa.effects.trim(audio_pi1)\n",
    "audio_pi2, _ = librosa.effects.trim(audio_pi2)\n",
    "\n",
    "# Cross-correlation using FFT\n",
    "print(\"Computing cross-correlation with FFT...\")\n",
    "correlation = fftconvolve(audio_pi1, audio_pi2[::-1], mode='full')\n",
    "lag = np.argmax(correlation) - len(audio_pi2)\n",
    "print(f\"Detected delay: {lag / sr1} seconds\")\n",
    "\n",
    "# Align the audio files based on the lag\n",
    "print(\"Aligning audio files...\")\n",
    "if lag > 0:\n",
    "    aligned_pi1 = audio_pi1[lag:]\n",
    "    aligned_pi2 = audio_pi2\n",
    "else:\n",
    "    aligned_pi1 = audio_pi1\n",
    "    aligned_pi2 = audio_pi2[-lag:]\n",
    "\n",
    "# Ensure both audio files are of the same length\n",
    "min_length = min(len(aligned_pi1), len(aligned_pi2))\n",
    "aligned_pi1 = aligned_pi1[:min_length]\n",
    "aligned_pi2 = aligned_pi2[:min_length]\n",
    "\n",
    "# Combine both audio files into a stereo format\n",
    "print(\"Combining aligned audio into stereo format...\")\n",
    "combined_audio = np.vstack((aligned_pi1, aligned_pi2))"
   ]
  },
  {
   "cell_type": "code",
   "execution_count": null,
   "metadata": {},
   "outputs": [],
   "source": [
    "# Save the aligned audio files\n",
    "print(\"Saving aligned audio files...\")\n",
    "sf.write(\"Align FFT/aligned_pi1.wav\", aligned_pi1, sr1)\n",
    "sf.write(\"Align FFT/aligned_pi2.wav\", aligned_pi2, sr1)\n",
    "\n",
    "# Save a stereo version of the aligned audio\n",
    "sf.write(\"Align FFT/aligned_stereo.wav\", combined_audio.T, sr1)\n",
    "\n",
    "print(\"Processing and saving completed.\")"
   ]
  },
  {
   "cell_type": "markdown",
   "metadata": {},
   "source": [
    "**2. Transformations (STFT & MEL)**"
   ]
  },
  {
   "cell_type": "code",
   "execution_count": null,
   "metadata": {},
   "outputs": [],
   "source": [
    "# Paths to your audio files in the Align FFT folder\n",
    "audio_pi1_path = \"Align FFT/aligned_pi1.wav\"\n",
    "audio_pi2_path = \"Align FFT/aligned_pi2.wav\"\n",
    "\n",
    "# Load aligned audio files\n",
    "print(\"Loading aligned Pi1 audio file...\")\n",
    "aligned_pi1, sr1 = librosa.load(audio_pi1_path, sr=None)\n",
    "print(\"Aligned Pi1 audio loaded.\")\n",
    "\n",
    "print(\"Loading aligned Pi2 audio file...\")\n",
    "aligned_pi2, sr2 = librosa.load(audio_pi2_path, sr=None)\n",
    "print(\"Aligned Pi2 audio loaded.\")\n"
   ]
  },
  {
   "cell_type": "code",
   "execution_count": null,
   "metadata": {},
   "outputs": [],
   "source": [
    "# Apply STFT (Short-term Fourier Transform)\n",
    "print(\"Applying Short-term Fourier Transform (STFT)...\")\n",
    "stft_pi1 = librosa.stft(aligned_pi1, n_fft=1024, hop_length=512)\n",
    "stft_pi2 = librosa.stft(aligned_pi2, n_fft=1024, hop_length=512)"
   ]
  },
  {
   "cell_type": "code",
   "execution_count": null,
   "metadata": {},
   "outputs": [],
   "source": [
    "# Convert to Mel-spectrogram\n",
    "print(\"Converting to Mel-spectrogram...\")\n",
    "mel_pi1 = librosa.feature.melspectrogram(S=np.abs(stft_pi1), sr=sr1, n_mels=128)\n",
    "mel_pi2 = librosa.feature.melspectrogram(S=np.abs(stft_pi2), sr=sr2, n_mels=128)\n",
    "\n",
    "# Convert Mel-spectrogram to dB scale\n",
    "print(\"Converting Mel-spectrogram to dB scale...\")\n",
    "mel_db_pi1 = librosa.power_to_db(mel_pi1, ref=np.max)\n",
    "mel_db_pi2 = librosa.power_to_db(mel_pi2, ref=np.max)\n",
    "\n",
    "# Normalize the mel-spectrograms\n",
    "print(\"Normalizing Mel-spectrograms...\")\n",
    "mel_db_pi1 = (mel_db_pi1 - np.mean(mel_db_pi1)) / np.std(mel_db_pi1)\n",
    "mel_db_pi2 = (mel_db_pi2 - np.mean(mel_db_pi2)) / np.std(mel_db_pi2)"
   ]
  },
  {
   "cell_type": "code",
   "execution_count": null,
   "metadata": {},
   "outputs": [],
   "source": [
    "# Save Mel-spectrograms as numpy arrays for future use\n",
    "print(\"Saving Mel-spectrograms...\")\n",
    "np.save(\"mel_db_pi1.npy\", mel_db_pi1)\n",
    "np.save(\"mel_db_pi2.npy\", mel_db_pi2)\n"
   ]
  },
  {
   "cell_type": "code",
   "execution_count": null,
   "metadata": {},
   "outputs": [],
   "source": [
    "# Plot and save the Mel-spectrograms\n",
    "print(\"Plotting and saving Mel-spectrograms...\")\n",
    "plt.figure(figsize=(10, 4))\n",
    "librosa.display.specshow(mel_db_pi1, sr=sr1, x_axis='time', y_axis='mel', cmap='viridis')\n",
    "plt.colorbar(format='%+2.0f dB')\n",
    "plt.title('Mel-Spectrogram Pi1')\n",
    "plt.savefig('mel_spectrogram_pi1.png')\n",
    "plt.show()\n",
    "\n",
    "plt.figure(figsize=(10, 4))\n",
    "librosa.display.specshow(mel_db_pi2, sr=sr2, x_axis='time', y_axis='mel', cmap='viridis')\n",
    "plt.colorbar(format='%+2.0f dB')\n",
    "plt.title('Mel-Spectrogram Pi2')\n",
    "plt.savefig('mel_spectrogram_pi2.png')\n",
    "plt.show()"
   ]
  }
 ],
 "metadata": {
  "kernelspec": {
   "display_name": "base",
   "language": "python",
   "name": "python3"
  },
  "language_info": {
   "codemirror_mode": {
    "name": "ipython",
    "version": 3
   },
   "file_extension": ".py",
   "mimetype": "text/x-python",
   "name": "python",
   "nbconvert_exporter": "python",
   "pygments_lexer": "ipython3",
   "version": "3.12.2"
  }
 },
 "nbformat": 4,
 "nbformat_minor": 2
}
